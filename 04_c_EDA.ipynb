{
 "cells": [
  {
   "cell_type": "markdown",
   "id": "a29721f8",
   "metadata": {},
   "source": [
    "## Class Announcements\n",
    "\n",
    "### Due Today\n",
    "- Project review\n",
    "\n",
    "\n",
    "### Due Monday:\n",
    "- Q4\n",
    "- D3\n",
    "\n",
    "\n",
    "### Notes:\n",
    "- **Only 1 week until your project proposal is due!!@#!@#!@#**\n",
    "- Repo invites:Take it ASAP, they become invalid after 7 days\n",
    "\n",
    "# Descriptive and Exploratory Data Analysis\n",
    "\n",
    "Let's explore some toy datasets, and see what's in there.  [Pandas](https://pandas.pydata.org/docs/user_guide/index.html) is our tool of choice for both data wrangling and also a basic descriptive analysis. [Seaborn](https://seaborn.pydata.org/) is the tool we will be using to do our graphical EDA, but it is also true that much of this can be accomplished (uglier, slower) in Pandas. You will find the docs on these websites to be very useful... always have them open in another browser tab.\n",
    "\n",
    "Finally we will show you [Missingno]() a tool that you might find useful to explore missing data.  This is a much simpler package than the others, but I often find it useful. It certainly isn't nearly as common to see out in the wild as the first two.\n",
    "\n",
    "[![Open In Colab](https://colab.research.google.com/assets/colab-badge.svg)](https://colab.research.google.com/github/COGS108/Lectures-Fa23/blob/main/Week_04/04_12_EDA.ipynb)\n"
   ]
  },
  {
   "cell_type": "code",
   "execution_count": null,
   "id": "a3e61dde",
   "metadata": {},
   "outputs": [],
   "source": [
    "# you probably don't already have this package installed, so lets do that\n",
    "%pip install missingno"
   ]
  },
  {
   "cell_type": "code",
   "execution_count": 2,
   "id": "68fe20e1",
   "metadata": {},
   "outputs": [],
   "source": [
    "import pandas as pd\n",
    "import matplotlib.pyplot as plt\n",
    "import numpy as np\n",
    "import seaborn as sns\n",
    "import missingno as msno\n",
    "\n",
    "%matplotlib inline\n",
    "\n",
    "sns.set_theme(context='notebook',\n",
    "              style='white',\n",
    "              font_scale=1.5)"
   ]
  },
  {
   "cell_type": "code",
   "execution_count": null,
   "id": "26c629fc",
   "metadata": {},
   "outputs": [],
   "source": [
    "# hey, it turns out seaborn has a nice routine\n",
    "# that allows us to grab toy datasets to play with\n",
    "print( sns.get_dataset_names() )\n",
    "penguins = sns.load_dataset('penguins')\n",
    "penguins"
   ]
  },
  {
   "cell_type": "code",
   "execution_count": null,
   "id": "f37dd085",
   "metadata": {},
   "outputs": [],
   "source": [
    "# you can already see the columns because this data is pretty small, \n",
    "# but that won't always be the case... so here's how you can see them in general\n",
    "penguins.columns"
   ]
  },
  {
   "cell_type": "code",
   "execution_count": null,
   "id": "df7850da",
   "metadata": {},
   "outputs": [],
   "source": [
    "\n",
    "penguins.shape"
   ]
  },
  {
   "cell_type": "code",
   "execution_count": null,
   "id": "a2afd40b",
   "metadata": {},
   "outputs": [],
   "source": [
    "penguins.dtypes"
   ]
  },
  {
   "cell_type": "code",
   "execution_count": null,
   "id": "cf88382c",
   "metadata": {},
   "outputs": [],
   "source": [
    "# Not that many Chinstraps!\n",
    "penguins['species'].value_counts()"
   ]
  },
  {
   "cell_type": "code",
   "execution_count": null,
   "id": "e2f55559",
   "metadata": {},
   "outputs": [],
   "source": [
    "penguins['island'].value_counts()"
   ]
  },
  {
   "cell_type": "code",
   "execution_count": null,
   "id": "7aa152ac",
   "metadata": {},
   "outputs": [],
   "source": [
    "# are there any relationships between\n",
    "# two categorical variables?\n",
    "# sometimes it turns out that one variable\n",
    "# can actually stand in for another variable\n",
    "# think statistical confounds, which can cause a lot of problems\n",
    "penguins[['species','island']].value_counts()"
   ]
  },
  {
   "cell_type": "code",
   "execution_count": null,
   "id": "598ae02e",
   "metadata": {},
   "outputs": [],
   "source": [
    "penguins['sex'].value_counts()"
   ]
  },
  {
   "cell_type": "code",
   "execution_count": null,
   "id": "c1e344ab",
   "metadata": {},
   "outputs": [],
   "source": [
    "# turns out that thankfully we have a fairly even number\n",
    "# of males and females for each species\n",
    "( \n",
    "    penguins[['species','sex']]\n",
    "    .value_counts()\n",
    "    #.to_frame()\n",
    "    #.sort_values(by=['species','sex'])\n",
    ")\n",
    "\n"
   ]
  },
  {
   "cell_type": "code",
   "execution_count": null,
   "id": "44aa1f07",
   "metadata": {},
   "outputs": [],
   "source": [
    "# the full set of interactions\n",
    "# printed pretty\n",
    "( \n",
    "    penguins[['species','island','sex']]\n",
    "    .value_counts()\n",
    "    .to_frame()\n",
    "    .sort_values(by=['species','island','sex'])\n",
    ")\n",
    "\n"
   ]
  },
  {
   "cell_type": "code",
   "execution_count": null,
   "id": "173f54dc",
   "metadata": {},
   "outputs": [],
   "source": [
    "# are there any missing data?\n",
    "# in the matrix display, missing data in a particular row is shown as white\n",
    "# available data is black\n",
    "# look for lines across multiple columns!\n",
    "msno.matrix(penguins);"
   ]
  },
  {
   "cell_type": "code",
   "execution_count": null,
   "id": "a57b374b",
   "metadata": {},
   "outputs": [],
   "source": [
    "# turns out if one length measurement is missing they ALL are\n",
    "msno.heatmap(penguins);"
   ]
  },
  {
   "cell_type": "code",
   "execution_count": null,
   "id": "fc63b6c7",
   "metadata": {},
   "outputs": [],
   "source": [
    "# so it looks like there are only 11 penguins with missing data\n",
    "penguins.dropna()"
   ]
  },
  {
   "cell_type": "code",
   "execution_count": null,
   "id": "a7f423ae",
   "metadata": {},
   "outputs": [],
   "source": [
    "# bonus question for you to think about on your own....\n",
    "missing = pd.isna(penguins).any(axis='columns')\n",
    "print(missing)\n",
    "penguins['missing'] = missing\n",
    "# now how could you figure out if there is a systematic relationship between\n",
    "# species, island, sex and whether a penguins data is missing any measurements\n",
    "# do some work here in this cell to figure it out!\n",
    "# or go ahead and insert as many cells here as you need"
   ]
  },
  {
   "cell_type": "code",
   "execution_count": null,
   "id": "f43e8d5a",
   "metadata": {},
   "outputs": [],
   "source": [
    "# we don't want our missing column after finishing the stuff above\n",
    "# and we decide to drop the 11 penguins with any missing data\n",
    "# since that's only 3% of our data\n",
    "penguins = penguins.drop(columns='missing').dropna()"
   ]
  },
  {
   "cell_type": "code",
   "execution_count": null,
   "id": "51bdd94f",
   "metadata": {},
   "outputs": [],
   "source": [
    "penguins.describe()"
   ]
  },
  {
   "cell_type": "code",
   "execution_count": null,
   "id": "fcc89989",
   "metadata": {},
   "outputs": [],
   "source": [
    "sns.histplot(penguins['bill_length_mm'])"
   ]
  },
  {
   "cell_type": "code",
   "execution_count": null,
   "id": "c53a2223",
   "metadata": {},
   "outputs": [],
   "source": [
    "# ugh those histograms do not look very normal!!\n",
    "sns.pairplot(penguins);"
   ]
  },
  {
   "cell_type": "code",
   "execution_count": null,
   "id": "8bd441d4",
   "metadata": {},
   "outputs": [],
   "source": [
    "# sometimes animals are sexually dimorphic yo!\n",
    "sns.pairplot(penguins, hue='sex');"
   ]
  },
  {
   "cell_type": "code",
   "execution_count": null,
   "id": "40140d2a",
   "metadata": {},
   "outputs": [],
   "source": [
    "# ah that's much better... almost normal...\n",
    "# and combined with above you can kinda see that for each species\n",
    "# the females do appear to be smaller than the males\n",
    "sns.pairplot(penguins, hue='species');"
   ]
  },
  {
   "cell_type": "code",
   "execution_count": null,
   "id": "2647dc1c",
   "metadata": {},
   "outputs": [],
   "source": [
    "# but there is clearly a better way to show this than a scatter plot\n",
    "# while a table contains all the info, it is ugly and hard to read!!\n",
    "penguins.groupby(['species','sex']).describe().T"
   ]
  },
  {
   "cell_type": "code",
   "execution_count": null,
   "id": "bd91785a",
   "metadata": {},
   "outputs": [],
   "source": [
    "# so lets do boxplots to compare each measure we may care about\n",
    "sns.boxplot(data=penguins,x='species',y='flipper_length_mm', hue='sex');"
   ]
  },
  {
   "cell_type": "code",
   "execution_count": null,
   "id": "49a6997f",
   "metadata": {},
   "outputs": [],
   "source": [
    "sns.boxplot(data=penguins,x='species',y='bill_length_mm', hue='sex');"
   ]
  },
  {
   "cell_type": "code",
   "execution_count": null,
   "id": "1c81bc32",
   "metadata": {},
   "outputs": [],
   "source": [
    "sns.boxplot(data=penguins,x='species',y='body_mass_g', hue='sex');"
   ]
  },
  {
   "cell_type": "code",
   "execution_count": null,
   "id": "580d386f",
   "metadata": {},
   "outputs": [],
   "source": [
    "# ok lets see if there's a dimensionality reduction method that\n",
    "# can help us see patterns of quantitative variables in their \n",
    "# relationships with categorical variables.\n",
    "# so to do that we need labels for the categorical variables we are interested in\n",
    "labels = penguins.species + '-' + penguins.sex\n",
    "print( labels.unique() )\n",
    "\n",
    "# do a PCA of the data\n",
    "from sklearn.decomposition import PCA\n",
    "PCA_peng = PCA(n_components=2)\n",
    "PCs_peng = PCA_peng.fit_transform(penguins[['flipper_length_mm','bill_length_mm','bill_depth_mm','body_mass_g']])\n",
    "\n",
    "# turn the numpy array into a dataframe for plotting\n",
    "PCs_peng = pd.DataFrame.from_records(PCs_peng,columns=['PC1','PC2'])\n",
    "PCs_peng['labels']=labels\n",
    "\n",
    "sns.scatterplot(data=PCs_peng, x='PC1', y='PC2', hue='labels')\n",
    "#place legend outside top right corner of plot\n",
    "plt.legend(bbox_to_anchor=(1.02, 1), loc='upper left', borderaxespad=0);"
   ]
  },
  {
   "cell_type": "markdown",
   "id": "8b817b07",
   "metadata": {},
   "source": [
    "If this is a descriptive analysis we've basically done our job by the time we finished making the `.describe()` table a few cells ago.\n",
    "\n",
    "But if we are doing EDA not only do we prefer the graphical presentation of things like `sns.pairplot()` and `sns.boxplot()`, but we are also allowed to interpret the things we observe in those plots.\n",
    "\n",
    "So how would you describe what you observe here?  What do you think about the relationships between the categorical variables (species, island, sex) and the continuous number variables (flipper length, bill length and depth, body mass)?  Do you see any patterns?\n",
    "\n",
    "In the next cell you can add in your own interpretations of what you see if you'd like"
   ]
  },
  {
   "cell_type": "markdown",
   "id": "ee9121cf",
   "metadata": {},
   "source": []
  },
  {
   "cell_type": "code",
   "execution_count": null,
   "id": "be46730d",
   "metadata": {},
   "outputs": [],
   "source": [
    "# now go explore a new dataset completely on your own!!\n",
    "  "
   ]
  },
  {
   "cell_type": "code",
   "execution_count": null,
   "id": "aad613fb",
   "metadata": {},
   "outputs": [],
   "source": [
    "# jasons starting suggestion\n",
    "# lets take a look at the timeframe covered by this dataset\n",
    "taxis.pickup.describe()"
   ]
  },
  {
   "cell_type": "markdown",
   "id": "d97dd810",
   "metadata": {},
   "source": [
    "Respond here after you do this!! This is todays checkin :)\n",
    "\n",
    "https://forms.gle/oHWc6TqCkDjWAp6J9"
   ]
  },
  {
   "cell_type": "code",
   "execution_count": null,
   "id": "cb2d3263",
   "metadata": {},
   "outputs": [],
   "source": []
  }
 ],
 "metadata": {
  "kernelspec": {
   "display_name": "Python 3 (ipykernel)",
   "language": "python",
   "name": "python3"
  },
  "language_info": {
   "codemirror_mode": {
    "name": "ipython",
    "version": 3
   },
   "file_extension": ".py",
   "mimetype": "text/x-python",
   "name": "python",
   "nbconvert_exporter": "python",
   "pygments_lexer": "ipython3",
   "version": "3.11.0"
  }
 },
 "nbformat": 4,
 "nbformat_minor": 5
}
